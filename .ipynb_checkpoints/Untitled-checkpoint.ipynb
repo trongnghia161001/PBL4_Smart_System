{
 "cells": [
  {
   "cell_type": "code",
   "execution_count": 2,
   "metadata": {},
   "outputs": [
    {
     "ename": "AttributeError",
     "evalue": "module 'tensorflow' has no attribute 'Session'",
     "output_type": "error",
     "traceback": [
      "\u001b[1;31m---------------------------------------------------------------------------\u001b[0m",
      "\u001b[1;31mAttributeError\u001b[0m                            Traceback (most recent call last)",
      "Cell \u001b[1;32mIn [2], line 7\u001b[0m\n\u001b[0;32m      5\u001b[0m \u001b[39mfrom\u001b[39;00m \u001b[39mtensorflow\u001b[39;00m\u001b[39m.\u001b[39;00m\u001b[39mcore\u001b[39;00m\u001b[39m.\u001b[39;00m\u001b[39mprotobuf\u001b[39;00m \u001b[39mimport\u001b[39;00m saved_model_pb2\n\u001b[0;32m      6\u001b[0m \u001b[39mfrom\u001b[39;00m \u001b[39mtensorflow\u001b[39;00m\u001b[39m.\u001b[39;00m\u001b[39mpython\u001b[39;00m\u001b[39m.\u001b[39;00m\u001b[39mutil\u001b[39;00m \u001b[39mimport\u001b[39;00m compat\n\u001b[1;32m----> 7\u001b[0m \u001b[39mwith\u001b[39;00m tf\u001b[39m.\u001b[39;49mSession() \u001b[39mas\u001b[39;00m persisted_sess:\n\u001b[0;32m      8\u001b[0m   \u001b[39mprint\u001b[39m(\u001b[39m\"\u001b[39m\u001b[39mload graph\u001b[39m\u001b[39m\"\u001b[39m)\n\u001b[0;32m      9\u001b[0m   \u001b[39mwith\u001b[39;00m gfile\u001b[39m.\u001b[39mFastGFile(\u001b[39m\"\u001b[39m\u001b[39m./model/binary_128_0.50_ver3.pb\u001b[39m\u001b[39m\"\u001b[39m,\u001b[39m'\u001b[39m\u001b[39mrb\u001b[39m\u001b[39m'\u001b[39m) \u001b[39mas\u001b[39;00m f:\n",
      "\u001b[1;31mAttributeError\u001b[0m: module 'tensorflow' has no attribute 'Session'"
     ]
    }
   ],
   "source": [
    "import tensorflow as tf\n",
    "import sys\n",
    "from tensorflow.python.platform import gfile\n",
    "\n",
    "from tensorflow.core.protobuf import saved_model_pb2\n",
    "from tensorflow.python.util import compat\n",
    "with tf.Session() as persisted_sess:\n",
    "  print(\"load graph\")\n",
    "  with gfile.FastGFile(\"./model/binary_128_0.50_ver3.pb\",'rb') as f:\n",
    "    graph_def = tf.GraphDef()\n",
    "    graph_def.ParseFromString(f.read())\n",
    "    persisted_sess.graph.as_default()\n",
    "    tf.import_graph_def(graph_def, name='')\n",
    "    writer = tf.summary.FileWriter(\"./tf_summary\", graph=persisted_sess.graph)\n",
    "    # Print all operation names\n",
    "    for op in persisted_sess.graph.get_operations():\n",
    "      print(op)"
   ]
  },
  {
   "cell_type": "code",
   "execution_count": 3,
   "metadata": {},
   "outputs": [
    {
     "ename": "ImportError",
     "evalue": "cannot import name 'imread' from 'scipy.misc' (c:\\Users\\trong\\AppData\\Local\\Programs\\Python\\Python310\\lib\\site-packages\\scipy\\misc\\__init__.py)",
     "output_type": "error",
     "traceback": [
      "\u001b[1;31m---------------------------------------------------------------------------\u001b[0m",
      "\u001b[1;31mImportError\u001b[0m                               Traceback (most recent call last)",
      "Cell \u001b[1;32mIn [3], line 6\u001b[0m\n\u001b[0;32m      4\u001b[0m \u001b[39mfrom\u001b[39;00m \u001b[39mtensorflow\u001b[39;00m\u001b[39m.\u001b[39;00m\u001b[39mpython\u001b[39;00m\u001b[39m.\u001b[39;00m\u001b[39mplatform\u001b[39;00m \u001b[39mimport\u001b[39;00m gfile\n\u001b[0;32m      5\u001b[0m \u001b[39mimport\u001b[39;00m \u001b[39mnumpy\u001b[39;00m \u001b[39mas\u001b[39;00m \u001b[39mnp\u001b[39;00m\n\u001b[1;32m----> 6\u001b[0m \u001b[39mfrom\u001b[39;00m \u001b[39mscipy\u001b[39;00m\u001b[39m.\u001b[39;00m\u001b[39mmisc\u001b[39;00m \u001b[39mimport\u001b[39;00m imread, imresize\n\u001b[0;32m      8\u001b[0m \u001b[39mclass\u001b[39;00m \u001b[39mImageFolderDataSource\u001b[39;00m:\n\u001b[0;32m      9\u001b[0m     \u001b[39mdef\u001b[39;00m \u001b[39m__init__\u001b[39m(\u001b[39mself\u001b[39m, folder, batch_size, labels):\n",
      "\u001b[1;31mImportError\u001b[0m: cannot import name 'imread' from 'scipy.misc' (c:\\Users\\trong\\AppData\\Local\\Programs\\Python\\Python310\\lib\\site-packages\\scipy\\misc\\__init__.py)"
     ]
    }
   ],
   "source": [
    "import tensorflow as tf\n",
    "import os\n",
    "import sys\n",
    "from tensorflow.python.platform import gfile\n",
    "import numpy as np\n",
    "from scipy.misc import imread, imresize\n",
    "\n",
    "class ImageFolderDataSource:\n",
    "    def __init__(self, folder, batch_size, labels):\n",
    "        if not os.path.exists(folder):\n",
    "            raise Exception(\"Folder doesn't exist: {}\".format(folder))\n",
    "        if set(labels) != set(os.listdir(folder)):\n",
    "            raise Exception(\"The labels are not consistent with folder structure.\")\n",
    "        self.labels = labels\n",
    "        self.n_classes = len(self.labels)\n",
    "        self.labels_index = np.arange(self.n_classes)\n",
    "        self.index_map = dict(zip(self.labels, self.labels_index))\n",
    "        self.label_map = dict(zip(self.labels_index, self.labels))\n",
    "        self.folder = folder\n",
    "        self.batch_size = batch_size\n",
    "        self.label_pool = []\n",
    "        self.file_pool = []\n",
    "        for label in self.labels:\n",
    "            label_one_hot = self.one_hot(self.index_map[label])\n",
    "            label_folder = os.path.join(folder, label)\n",
    "            label_files = list(map(\n",
    "                lambda f: os.path.join(label_folder, f),\n",
    "                os.listdir(label_folder)\n",
    "            ))\n",
    "            self.file_pool.extend(label_files)\n",
    "            self.label_pool.extend(np.repeat([label_one_hot], len(label_files), axis=0))\n",
    "        self.n_files = len(self.file_pool)\n",
    "        self.label_pool = np.array(self.label_pool)\n",
    "        self.file_pool = np.array(self.file_pool)\n",
    "    def one_hot(self, index):\n",
    "        res = np.repeat(0, self.n_classes).astype(np.float32)\n",
    "        res[index] = 1.0\n",
    "        return  res\n",
    "    def rand_index(self):\n",
    "        return np.random.choice(np.arange(self.n_files), self.batch_size)\n",
    "    def get_batch(self):\n",
    "        index = self.rand_index()\n",
    "        batch_labels = self.label_pool[index]\n",
    "        batch_files = self.file_pool[index]\n",
    "        batch_data = np.array(list(\n",
    "            map(\n",
    "                lambda f: imread(f),\n",
    "                batch_files\n",
    "            )\n",
    "        ))\n",
    "        return batch_labels, batch_data, batch_files\n",
    "\n",
    "\n",
    "\n",
    "with tf.Session() as persisted_sess:\n",
    "    def run_inference_on_image():\n",
    "        with open(\"latest_labels.txt\") as fh:\n",
    "            label_names = [x.strip() for x in fh.readlines()]\n",
    "        batch_reader = ImageFolderDataSource(\"/home/kaiyin/PycharmProjects/demo-load-pb-tensorflow/images/validate\", 5, label_names)\n",
    "        labels, data, files = batch_reader.get_batch()\n",
    "        print(files)\n",
    "        data = np.divide(data, np.float32(255.0))\n",
    "        answer = None\n",
    "        # # Print all operators in the graph\n",
    "        # for op in persisted_sess.graph.get_operations():\n",
    "        #     print(op)\n",
    "        # # Print all tensors produced by each operator in the graph\n",
    "        # for op in persisted_sess.graph.get_operations():\n",
    "        #     print(op.values())\n",
    "        # tensor_names = [[v.name for v in op.values()] for op in persisted_sess.graph.get_operations()]\n",
    "        # tensor_names = np.squeeze(tensor_names)\n",
    "        # print(tensor_names)\n",
    "        softmax_tensor = persisted_sess.graph.get_tensor_by_name('import/final_result:0')\n",
    "        def predict(img):\n",
    "            predictions = persisted_sess.run(softmax_tensor, {'import/input:0': img})\n",
    "            predictions = np.squeeze(predictions)\n",
    "            print(\"##################\")\n",
    "            top_k = predictions.argsort()[:][::-1]  # Getting top 3 predictions, reverse order\n",
    "            for node_id in top_k:\n",
    "                human_string = batch_reader.labels[node_id]\n",
    "                score = predictions[node_id]\n",
    "                print('%s (score = %.5f)' % (human_string, score))\n",
    "            answer = batch_reader.labels[top_k[0]]\n",
    "            return answer\n",
    "        for index in range(len(labels)):\n",
    "            img = data[index]\n",
    "            label_index = np.nonzero(labels[index])[0][0]\n",
    "            label_name = batch_reader.label_map[label_index]\n",
    "            if img.shape != (224, 224, 3):\n",
    "                img = imresize(img, (224, 224, 3))\n",
    "            predict(np.expand_dims(img, axis=0))\n",
    "\n",
    "    with gfile.FastGFile(\"./model/binary_128_0.50_ver3.pb\", 'rb') as f:\n",
    "        graph_def = tf.GraphDef()\n",
    "        graph_def.ParseFromString(f.read())\n",
    "        persisted_sess.graph.as_default()\n",
    "        tf.import_graph_def(graph_def)\n",
    "        run_inference_on_image()\n"
   ]
  },
  {
   "cell_type": "code",
   "execution_count": null,
   "metadata": {},
   "outputs": [],
   "source": []
  }
 ],
 "metadata": {
  "kernelspec": {
   "display_name": "Python 3.10.4 64-bit",
   "language": "python",
   "name": "python3"
  },
  "language_info": {
   "codemirror_mode": {
    "name": "ipython",
    "version": 3
   },
   "file_extension": ".py",
   "mimetype": "text/x-python",
   "name": "python",
   "nbconvert_exporter": "python",
   "pygments_lexer": "ipython3",
   "version": "3.10.4"
  },
  "vscode": {
   "interpreter": {
    "hash": "7a7f244156446f3257cedf7074c0e9e4145b27e4175227e86fe28a0265738de6"
   }
  }
 },
 "nbformat": 4,
 "nbformat_minor": 2
}
